{
  "nbformat": 4,
  "nbformat_minor": 0,
  "metadata": {
    "colab": {
      "provenance": [],
      "authorship_tag": "ABX9TyNmCJIHrkOMo+dCkIAg32ZU",
      "include_colab_link": true
    },
    "kernelspec": {
      "name": "python3",
      "display_name": "Python 3"
    },
    "language_info": {
      "name": "python"
    }
  },
  "cells": [
    {
      "cell_type": "markdown",
      "metadata": {
        "id": "view-in-github",
        "colab_type": "text"
      },
      "source": [
        "<a href=\"https://colab.research.google.com/github/ravizare/Rdz/blob/main/Copy_of_Untitled1.ipynb\" target=\"_parent\"><img src=\"https://colab.research.google.com/assets/colab-badge.svg\" alt=\"Open In Colab\"/></a>"
      ]
    },
    {
      "cell_type": "code",
      "execution_count": null,
      "metadata": {
        "colab": {
          "base_uri": "https://localhost:8080/"
        },
        "id": "PxZiGkx-9xQq",
        "outputId": "bf5bc704-4177-4004-ec57-e6a5c770a259"
      },
      "outputs": [
        {
          "output_type": "stream",
          "name": "stdout",
          "text": [
            "     Name Age       City  Roll\n",
            "1   Sahil  25    Gangtok  1234\n",
            "2    Neha  30   Siliguri  5678\n",
            "3   Seema  35    Pelling  9101\n",
            "4   Saroj  41     Imphal  1213\n",
            "5    Azad  27  Ahmedabad  4321\n",
            "6  Khusbu  36     Kohima  8765\n",
            "7    Tara  45     Dispur  1516\n",
            "8   Milan  51    Shilong  2324\n"
          ]
        }
      ],
      "source": [
        "import pandas as pd\n",
        "df1 = pd.DataFrame({'Name':['Sahil','Neha','Seema','Saroj']\n",
        ",'Age':['25','30','35','41'],'City':['Gangtok','Siliguri','Pelling','Imphal'],'Roll':['1234','5678','9101','1213',]}, index = [1, 2, 3, 4])\n",
        "\n",
        "df2 = pd.DataFrame({'Name':['Azad','Khusbu','Tara','Milan']\n",
        ",'Age':['27','36','45','51'],'City':['Ahmedabad','Kohima','Dispur','Shilong'],'Roll':['4321','8765','1516','2324']}, index = [5, 6, 7, 8])\n",
        "\n",
        "print(pd.concat([df1,df2]))\n"
      ]
    },
    {
      "cell_type": "code",
      "source": [
        "import pandas as pd\n",
        "\n",
        "df1 = pd.DataFrame({'Name': ['Sahil', 'Neha', 'Seema', 'Saroj'], 'Age': ['25', '30', '35', '41'], 'City': ['Gangtok', 'Siliguri', 'Pelling', 'Imphal'], 'Roll': ['1234', '5678', '9101', '1213']}, index=[0, 1, 2, 3])\n",
        "\n",
        "df2 = pd.DataFrame({'Name': ['Azad', 'Khusbu', 'Tara', 'Milan'], 'Age': ['27', '36', '45', '51'], 'City': ['Ahmedabad', 'Kohima', 'Dispur', 'Shillong'], 'Roll': ['4321', '8765', '1516', '2324']}, index=[4, 5, 6, 7])\n",
        "\n",
        "print(pd.concat([df1, df2]))"
      ],
      "metadata": {
        "colab": {
          "base_uri": "https://localhost:8080/"
        },
        "id": "HFzk9GSfB4tw",
        "outputId": "32a8d8a2-67f0-404d-ffb4-f862865a420b"
      },
      "execution_count": null,
      "outputs": [
        {
          "output_type": "stream",
          "name": "stdout",
          "text": [
            "     Name Age       City  Roll\n",
            "0   Sahil  25    Gangtok  1234\n",
            "1    Neha  30   Siliguri  5678\n",
            "2   Seema  35    Pelling  9101\n",
            "3   Saroj  41     Imphal  1213\n",
            "4    Azad  27  Ahmedabad  4321\n",
            "5  Khusbu  36     Kohima  8765\n",
            "6    Tara  45     Dispur  1516\n",
            "7   Milan  51   Shillong  2324\n"
          ]
        }
      ]
    }
  ]
}